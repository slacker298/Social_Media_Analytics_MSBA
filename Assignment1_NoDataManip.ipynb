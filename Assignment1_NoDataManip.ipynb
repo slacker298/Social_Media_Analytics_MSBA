{
 "cells": [
  {
   "cell_type": "code",
   "execution_count": 1,
   "metadata": {
    "collapsed": false
   },
   "outputs": [],
   "source": [
    "## Import packages ##\n",
    "## Data Structures \n",
    "import pandas as pd\n",
    "import numpy as np\n",
    "\n",
    "## Graphing \n",
    "# %matplotlib inline\n",
    "import matplotlib\n",
    "import matplotlib.pyplot as plt\n",
    "\n",
    "## Data preprocessing\n",
    "from sklearn.preprocessing import StandardScaler\n",
    "from sklearn.model_selection import train_test_split\n",
    "\n",
    "## Models \n",
    "from sklearn.linear_model import SGDClassifier\n",
    "from sklearn.model_selection import StratifiedKFold\n",
    "from sklearn.base import clone\n",
    "from sklearn.ensemble import RandomForestClassifier\n",
    "from sklearn.model_selection import cross_val_score\n",
    "\n",
    "## Scoring measures \n",
    "from sklearn.metrics import confusion_matrix\n",
    "from sklearn.metrics import precision_score, recall_score, f1_score\n",
    "from sklearn.metrics import roc_curve\n",
    "from sklearn.metrics import roc_auc_score"
   ]
  },
  {
   "cell_type": "code",
   "execution_count": 2,
   "metadata": {
    "collapsed": true
   },
   "outputs": [],
   "source": [
    "# Ignore these annoying warnings \n",
    "import warnings\n",
    "warnings.filterwarnings('ignore')"
   ]
  },
  {
   "cell_type": "code",
   "execution_count": 3,
   "metadata": {
    "collapsed": true
   },
   "outputs": [],
   "source": [
    "# Define plotting functions to be used later \n",
    "def plot_roc_curve(fpr, tpr, label=None):\n",
    "    plt.plot(fpr, tpr, linewidth=2, label=label)\n",
    "    plt.plot([0,1], [0,1], 'k--')\n",
    "    plt.axis([0,1,0,1])\n",
    "    plt.xlabel('False Positive Rate')\n",
    "    plt.ylabel(\"True Positive Rate\")\n",
    "    \n",
    "def plot_precision_recall_vs_threshold(precisions, recalls, thresholds):\n",
    "    plt.plot(thresholds, precisions[:-1], 'b--', label='Precision')\n",
    "    plt.plot(thresholds, recalls[:-1], 'g-', label='Recall')\n",
    "    plt.xlabel('Threshold')\n",
    "    plt.legend(loc='upper left')\n",
    "    plt.ylim([0,1])"
   ]
  },
  {
   "cell_type": "code",
   "execution_count": 4,
   "metadata": {
    "collapsed": false
   },
   "outputs": [
    {
     "data": {
      "text/html": [
       "<div>\n",
       "<table border=\"1\" class=\"dataframe\">\n",
       "  <thead>\n",
       "    <tr style=\"text-align: right;\">\n",
       "      <th></th>\n",
       "      <th>Choice</th>\n",
       "      <th>A_follower_count</th>\n",
       "      <th>A_following_count</th>\n",
       "      <th>A_listed_count</th>\n",
       "      <th>A_mentions_received</th>\n",
       "      <th>A_retweets_received</th>\n",
       "      <th>A_mentions_sent</th>\n",
       "      <th>A_retweets_sent</th>\n",
       "      <th>A_posts</th>\n",
       "      <th>A_network_feature_1</th>\n",
       "      <th>...</th>\n",
       "      <th>B_following_count</th>\n",
       "      <th>B_listed_count</th>\n",
       "      <th>B_mentions_received</th>\n",
       "      <th>B_retweets_received</th>\n",
       "      <th>B_mentions_sent</th>\n",
       "      <th>B_retweets_sent</th>\n",
       "      <th>B_posts</th>\n",
       "      <th>B_network_feature_1</th>\n",
       "      <th>B_network_feature_2</th>\n",
       "      <th>B_network_feature_3</th>\n",
       "    </tr>\n",
       "  </thead>\n",
       "  <tbody>\n",
       "    <tr>\n",
       "      <th>0</th>\n",
       "      <td>0</td>\n",
       "      <td>228</td>\n",
       "      <td>302</td>\n",
       "      <td>3</td>\n",
       "      <td>0.583979</td>\n",
       "      <td>0.100503</td>\n",
       "      <td>0.100503</td>\n",
       "      <td>0.100503</td>\n",
       "      <td>0.362150</td>\n",
       "      <td>2</td>\n",
       "      <td>...</td>\n",
       "      <td>29808</td>\n",
       "      <td>1689</td>\n",
       "      <td>15.430498</td>\n",
       "      <td>3.984029</td>\n",
       "      <td>8.204331</td>\n",
       "      <td>0.332423</td>\n",
       "      <td>6.988815</td>\n",
       "      <td>66</td>\n",
       "      <td>75.530303</td>\n",
       "      <td>1916.893939</td>\n",
       "    </tr>\n",
       "    <tr>\n",
       "      <th>1</th>\n",
       "      <td>0</td>\n",
       "      <td>21591</td>\n",
       "      <td>1179</td>\n",
       "      <td>228</td>\n",
       "      <td>90.456506</td>\n",
       "      <td>25.798292</td>\n",
       "      <td>5.709329</td>\n",
       "      <td>1.111159</td>\n",
       "      <td>5.176620</td>\n",
       "      <td>369</td>\n",
       "      <td>...</td>\n",
       "      <td>848</td>\n",
       "      <td>1610</td>\n",
       "      <td>40.495021</td>\n",
       "      <td>8.943607</td>\n",
       "      <td>3.227677</td>\n",
       "      <td>0.564343</td>\n",
       "      <td>1.070321</td>\n",
       "      <td>163</td>\n",
       "      <td>132.030675</td>\n",
       "      <td>2931.515337</td>\n",
       "    </tr>\n",
       "    <tr>\n",
       "      <th>2</th>\n",
       "      <td>0</td>\n",
       "      <td>7310</td>\n",
       "      <td>1215</td>\n",
       "      <td>101</td>\n",
       "      <td>25.503644</td>\n",
       "      <td>9.556347</td>\n",
       "      <td>5.361519</td>\n",
       "      <td>0.591206</td>\n",
       "      <td>3.589718</td>\n",
       "      <td>95</td>\n",
       "      <td>...</td>\n",
       "      <td>482</td>\n",
       "      <td>206</td>\n",
       "      <td>0.734696</td>\n",
       "      <td>0.354379</td>\n",
       "      <td>0.603202</td>\n",
       "      <td>0.100503</td>\n",
       "      <td>0.603202</td>\n",
       "      <td>3</td>\n",
       "      <td>10.333333</td>\n",
       "      <td>277.333333</td>\n",
       "    </tr>\n",
       "    <tr>\n",
       "      <th>3</th>\n",
       "      <td>0</td>\n",
       "      <td>20</td>\n",
       "      <td>7</td>\n",
       "      <td>2</td>\n",
       "      <td>7.690824</td>\n",
       "      <td>0.277306</td>\n",
       "      <td>1.331508</td>\n",
       "      <td>0.100503</td>\n",
       "      <td>2.830627</td>\n",
       "      <td>6</td>\n",
       "      <td>...</td>\n",
       "      <td>17637</td>\n",
       "      <td>278</td>\n",
       "      <td>572.874856</td>\n",
       "      <td>390.293681</td>\n",
       "      <td>27.552040</td>\n",
       "      <td>7.167557</td>\n",
       "      <td>32.101906</td>\n",
       "      <td>1762</td>\n",
       "      <td>23.469296</td>\n",
       "      <td>1395.845634</td>\n",
       "    </tr>\n",
       "    <tr>\n",
       "      <th>4</th>\n",
       "      <td>1</td>\n",
       "      <td>45589</td>\n",
       "      <td>862</td>\n",
       "      <td>2641</td>\n",
       "      <td>148.854279</td>\n",
       "      <td>36.998884</td>\n",
       "      <td>27.881768</td>\n",
       "      <td>3.333492</td>\n",
       "      <td>23.861282</td>\n",
       "      <td>551</td>\n",
       "      <td>...</td>\n",
       "      <td>1711</td>\n",
       "      <td>181</td>\n",
       "      <td>21.601866</td>\n",
       "      <td>3.581661</td>\n",
       "      <td>6.764657</td>\n",
       "      <td>1.119727</td>\n",
       "      <td>4.563246</td>\n",
       "      <td>85</td>\n",
       "      <td>48.500000</td>\n",
       "      <td>1993.627907</td>\n",
       "    </tr>\n",
       "  </tbody>\n",
       "</table>\n",
       "<p>5 rows × 23 columns</p>\n",
       "</div>"
      ],
      "text/plain": [
       "   Choice  A_follower_count  A_following_count  A_listed_count  \\\n",
       "0       0               228                302               3   \n",
       "1       0             21591               1179             228   \n",
       "2       0              7310               1215             101   \n",
       "3       0                20                  7               2   \n",
       "4       1             45589                862            2641   \n",
       "\n",
       "   A_mentions_received  A_retweets_received  A_mentions_sent  A_retweets_sent  \\\n",
       "0             0.583979             0.100503         0.100503         0.100503   \n",
       "1            90.456506            25.798292         5.709329         1.111159   \n",
       "2            25.503644             9.556347         5.361519         0.591206   \n",
       "3             7.690824             0.277306         1.331508         0.100503   \n",
       "4           148.854279            36.998884        27.881768         3.333492   \n",
       "\n",
       "     A_posts  A_network_feature_1         ...           B_following_count  \\\n",
       "0   0.362150                    2         ...                       29808   \n",
       "1   5.176620                  369         ...                         848   \n",
       "2   3.589718                   95         ...                         482   \n",
       "3   2.830627                    6         ...                       17637   \n",
       "4  23.861282                  551         ...                        1711   \n",
       "\n",
       "   B_listed_count  B_mentions_received  B_retweets_received  B_mentions_sent  \\\n",
       "0            1689            15.430498             3.984029         8.204331   \n",
       "1            1610            40.495021             8.943607         3.227677   \n",
       "2             206             0.734696             0.354379         0.603202   \n",
       "3             278           572.874856           390.293681        27.552040   \n",
       "4             181            21.601866             3.581661         6.764657   \n",
       "\n",
       "   B_retweets_sent    B_posts  B_network_feature_1  B_network_feature_2  \\\n",
       "0         0.332423   6.988815                   66            75.530303   \n",
       "1         0.564343   1.070321                  163           132.030675   \n",
       "2         0.100503   0.603202                    3            10.333333   \n",
       "3         7.167557  32.101906                 1762            23.469296   \n",
       "4         1.119727   4.563246                   85            48.500000   \n",
       "\n",
       "   B_network_feature_3  \n",
       "0          1916.893939  \n",
       "1          2931.515337  \n",
       "2           277.333333  \n",
       "3          1395.845634  \n",
       "4          1993.627907  \n",
       "\n",
       "[5 rows x 23 columns]"
      ]
     },
     "execution_count": 4,
     "metadata": {},
     "output_type": "execute_result"
    }
   ],
   "source": [
    "train_df = pd.read_csv(\"train.csv\") # Load the data \n",
    "train_df.head()"
   ]
  },
  {
   "cell_type": "markdown",
   "metadata": {},
   "source": [
    "# EDA"
   ]
  },
  {
   "cell_type": "code",
   "execution_count": 5,
   "metadata": {
    "collapsed": false
   },
   "outputs": [
    {
     "data": {
      "text/plain": [
       "(5500, 23)"
      ]
     },
     "execution_count": 5,
     "metadata": {},
     "output_type": "execute_result"
    }
   ],
   "source": [
    "train_df.shape"
   ]
  },
  {
   "cell_type": "code",
   "execution_count": 6,
   "metadata": {
    "collapsed": false
   },
   "outputs": [
    {
     "data": {
      "image/png": "[encoded data removed]",
      "text/plain": [
       "<matplotlib.figure.Figure at 0x1fdf2d5b390>"
      ]
     },
     "metadata": {},
     "output_type": "display_data"
    }
   ],
   "source": [
    "train_df.hist(bins=50, figsize=(20,15))\n",
    "plt.show()"
   ]
  },
  {
   "cell_type": "markdown",
   "metadata": {},
   "source": [
    "All data very skewed, need to normalize "
   ]
  },
  {
   "cell_type": "code",
   "execution_count": 7,
   "metadata": {
    "collapsed": false
   },
   "outputs": [],
   "source": [
    "from pandas.tools.plotting import scatter_matrix \n",
    "\n",
    "# attributes = ['A_network_feature_2', 'B_network_feature_2', 'A_mentions_sent', 'B_mentions_sent']\n",
    "# scatter_matrix(train_df[attributes], figsize=(12, 8))\n",
    "# plt.show()"
   ]
  },
  {
   "cell_type": "code",
   "execution_count": 8,
   "metadata": {
    "collapsed": true
   },
   "outputs": [],
   "source": [
    "## Get a count of Null values for each column \n",
    "for col in list(train_df):\n",
    "    num_null = train_df[col].isnull().sum()\n",
    "    if num_null > 0:\n",
    "        print(col, num_null, str(num_null/train_df.shape[0]*100)+'%')\n",
    "# No Nulls!"
   ]
  },
  {
   "cell_type": "markdown",
   "metadata": {},
   "source": [
    "# Data Pre-Processing"
   ]
  },
  {
   "cell_type": "code",
   "execution_count": 9,
   "metadata": {
    "collapsed": false
   },
   "outputs": [],
   "source": [
    "# Split data into target and rest of data\n",
    "X = train_df.drop('Choice', axis=1)\n",
    "y = train_df['Choice'].copy()"
   ]
  },
  {
   "cell_type": "code",
   "execution_count": 10,
   "metadata": {
    "collapsed": true
   },
   "outputs": [],
   "source": [
    "# Shuffle into train and test set \n",
    "X_train, X_test, y_train, y_test = train_test_split(X, y, test_size=0.33, random_state=42)"
   ]
  },
  {
   "cell_type": "code",
   "execution_count": 11,
   "metadata": {
    "collapsed": true
   },
   "outputs": [],
   "source": [
    "scaler = StandardScaler()\n",
    "\n",
    "X_train_scaled = scaler.fit_transform(X_train.astype(np.float64))"
   ]
  },
  {
   "cell_type": "code",
   "execution_count": null,
   "metadata": {
    "collapsed": true
   },
   "outputs": [],
   "source": []
  },
  {
   "cell_type": "code",
   "execution_count": null,
   "metadata": {
    "collapsed": true
   },
   "outputs": [],
   "source": []
  },
  {
   "cell_type": "code",
   "execution_count": null,
   "metadata": {
    "collapsed": true
   },
   "outputs": [],
   "source": []
  },
  {
   "cell_type": "code",
   "execution_count": null,
   "metadata": {
    "collapsed": true
   },
   "outputs": [],
   "source": []
  },
  {
   "cell_type": "code",
   "execution_count": null,
   "metadata": {
    "collapsed": true
   },
   "outputs": [],
   "source": []
  },
  {
   "cell_type": "markdown",
   "metadata": {},
   "source": [
    "# Running Models"
   ]
  },
  {
   "cell_type": "markdown",
   "metadata": {},
   "source": [
    "# SGD Classifier"
   ]
  },
  {
   "cell_type": "code",
   "execution_count": 12,
   "metadata": {
    "collapsed": false
   },
   "outputs": [
    {
     "data": {
      "text/plain": [
       "SGDClassifier(alpha=0.0001, average=False, class_weight=None, epsilon=0.1,\n",
       "       eta0=0.0, fit_intercept=True, l1_ratio=0.15,\n",
       "       learning_rate='optimal', loss='hinge', max_iter=None, n_iter=None,\n",
       "       n_jobs=1, penalty='l2', power_t=0.5, random_state=41, shuffle=True,\n",
       "       tol=None, verbose=0, warm_start=False)"
      ]
     },
     "execution_count": 12,
     "metadata": {},
     "output_type": "execute_result"
    }
   ],
   "source": [
    "sgd_clf = SGDClassifier(random_state=41)\n",
    "sgd_clf.fit(X_train, y_train)"
   ]
  },
  {
   "cell_type": "code",
   "execution_count": 13,
   "metadata": {
    "collapsed": false
   },
   "outputs": [
    {
     "data": {
      "text/plain": [
       "array([0.72091131, 0.6810415 , 0.67237164])"
      ]
     },
     "execution_count": 13,
     "metadata": {},
     "output_type": "execute_result"
    }
   ],
   "source": [
    "cross_val_score(sgd_clf, X_train_scaled, y_train, cv=3, scoring='accuracy')"
   ]
  },
  {
   "cell_type": "code",
   "execution_count": 14,
   "metadata": {
    "collapsed": false
   },
   "outputs": [],
   "source": [
    "## Much better way to look at classifier performence is with a confusion matrix \n",
    "\n",
    "## First we need a set of predicitons\n",
    "\n",
    "from sklearn.model_selection import cross_val_predict #note this is different from cross_val_score\n",
    "\n",
    "y_train_pred = cross_val_predict(sgd_clf, X_train_scaled, y_train, cv=3)"
   ]
  },
  {
   "cell_type": "code",
   "execution_count": 15,
   "metadata": {
    "collapsed": false
   },
   "outputs": [
    {
     "data": {
      "text/plain": [
       "array([[1228,  574],\n",
       "       [ 563, 1320]], dtype=int64)"
      ]
     },
     "execution_count": 15,
     "metadata": {},
     "output_type": "execute_result"
    }
   ],
   "source": [
    "confusion_matrix(y_train, y_train_pred)\n",
    "## Each row represents an ACTUAL CLASS\n",
    "## Each columns represents a PREDICTED CLASS\n",
    "## In this example:\n",
    "## [0,0] = True Negatives\n",
    "## [0,1] = False Positives\n",
    "## [1,0] = False Negatives\n",
    "## [1,1] = True Positives\n",
    "\n",
    "## Note: indexing goes like [row, column]"
   ]
  },
  {
   "cell_type": "code",
   "execution_count": 16,
   "metadata": {
    "collapsed": false
   },
   "outputs": [
    {
     "data": {
      "text/plain": [
       "0.6969376979936642"
      ]
     },
     "execution_count": 16,
     "metadata": {},
     "output_type": "execute_result"
    }
   ],
   "source": [
    "## Lets look at precision and recall:\n",
    "\n",
    "## Precision = TP / (TP + FP)\n",
    "## Recall = TP / (TP + FN)\n",
    "\n",
    "from sklearn.metrics import precision_score, recall_score\n",
    "\n",
    "precision_score(y_train, y_train_pred)\n",
    "#When it claims A is the influencer, it is only correct 56.02% of the time **UNSCALED**\n",
    "#When it claims A is the influencer, it is only correct 69.69% of the time **SCALED**"
   ]
  },
  {
   "cell_type": "markdown",
   "metadata": {},
   "source": [
    "TRY THIS:\n",
    "\n",
    "maybe we want to maximize precision?  If we can detect with higher accuracy when A is an influencer, then we also get higher accuracy of when B is an influencer"
   ]
  },
  {
   "cell_type": "code",
   "execution_count": 17,
   "metadata": {
    "collapsed": false
   },
   "outputs": [
    {
     "data": {
      "text/plain": [
       "0.7010090281465746"
      ]
     },
     "execution_count": 17,
     "metadata": {},
     "output_type": "execute_result"
    }
   ],
   "source": [
    "recall_score(y_train, y_train_pred)\n",
    "#It only detects 70% of the A influencers"
   ]
  },
  {
   "cell_type": "code",
   "execution_count": 18,
   "metadata": {
    "collapsed": false
   },
   "outputs": [
    {
     "data": {
      "text/plain": [
       "0.6989674344718031"
      ]
     },
     "execution_count": 18,
     "metadata": {},
     "output_type": "execute_result"
    }
   ],
   "source": [
    "## Typically we will want to use an F1 score to compare classifiers \n",
    "## F1 score is the harmonic mean of precision and recall\n",
    "\n",
    "# from sklearn.metrics import f1_score\n",
    "f1_score(y_train, y_train_pred)\n",
    "\n",
    "## F1 score favors models that have similiar recall and precision \n",
    "## This may not always be the case (sometimes only care about one)\n",
    "\n",
    "## Cannot have both ways - increasing precision reduces recall, and vice-versa\n",
    "## This iss called the precision/recall tradeoff"
   ]
  },
  {
   "cell_type": "code",
   "execution_count": 19,
   "metadata": {
    "collapsed": false
   },
   "outputs": [],
   "source": [
    "## How do we decide what threshold to use?  \n",
    "## To do this, we first need to get scores of all instances in the training data again,\n",
    "## but this time retunr decision scores instead of predicitons \n",
    "\n",
    "y_scores = cross_val_predict(sgd_clf, X_train_scaled, y_train, cv=3, method='decision_function')"
   ]
  },
  {
   "cell_type": "code",
   "execution_count": 20,
   "metadata": {
    "collapsed": false
   },
   "outputs": [],
   "source": [
    "## Now we can compute precision and recall for all possible thresholds using sklearn package \n",
    "\n",
    "from sklearn.metrics import precision_recall_curve\n",
    "\n",
    "precisions, recalls, thresholds = precision_recall_curve(y_train, y_scores)"
   ]
  },
  {
   "cell_type": "code",
   "execution_count": 21,
   "metadata": {
    "collapsed": false
   },
   "outputs": [
    {
     "data": {
      "image/png": "[encoded data removed]",
      "text/plain": [
       "<matplotlib.figure.Figure at 0x1fdf62f77f0>"
      ]
     },
     "metadata": {},
     "output_type": "display_data"
    }
   ],
   "source": [
    "plot_precision_recall_vs_threshold(precisions, recalls, thresholds)\n",
    "plt.show()"
   ]
  },
  {
   "cell_type": "code",
   "execution_count": 22,
   "metadata": {
    "collapsed": true
   },
   "outputs": [],
   "source": [
    "## Now lets look at the receiver operating characteristic (ROC) curve\n",
    "## ROC plots true positive rate (recall) vs. false positive rate (FPR)\n",
    "## The FPR is the ratio of negative instances that are incorrectly classified as positive\n",
    "## FPR = 1 - TNR (true negative rate)\n",
    "## True negative rate is also called specificity \n",
    "\n",
    "## To plot ROC curve, we first need to calculate TPR and FPR for many threshold values\n",
    "\n",
    "fpr, tpr, thresholds = roc_curve(y_train, y_scores)"
   ]
  },
  {
   "cell_type": "code",
   "execution_count": 23,
   "metadata": {
    "collapsed": false
   },
   "outputs": [
    {
     "data": {
      "image/png": "[encoded data removed]",
      "text/plain": [
       "<matplotlib.figure.Figure at 0x1fdf51408d0>"
      ]
     },
     "metadata": {},
     "output_type": "display_data"
    }
   ],
   "source": [
    "plot_roc_curve(fpr,tpr)\n",
    "plt.show()"
   ]
  },
  {
   "cell_type": "code",
   "execution_count": 24,
   "metadata": {
    "collapsed": false
   },
   "outputs": [
    {
     "data": {
      "text/plain": [
       "0.7300252920134176"
      ]
     },
     "execution_count": 24,
     "metadata": {},
     "output_type": "execute_result"
    }
   ],
   "source": [
    "# from sklearn.metrics import roc_auc_score\n",
    "roc_auc_score(y_train, y_scores)"
   ]
  },
  {
   "cell_type": "markdown",
   "metadata": {},
   "source": [
    "Thats a pretty poor curve.\n",
    "\n",
    "Let's try using random forest to classify "
   ]
  },
  {
   "cell_type": "markdown",
   "metadata": {},
   "source": [
    "# Random Forest"
   ]
  },
  {
   "cell_type": "code",
   "execution_count": 25,
   "metadata": {
    "collapsed": false
   },
   "outputs": [],
   "source": [
    "## Lets try running a RandomForest and see the PR and ROC AUC curves\n",
    "## NOTE: RandomForestClassifier does not have decision_function(); instead it has predict_proba()\n",
    "\n",
    "forest_clf = RandomForestClassifier(random_state=42)\n",
    "y_probas_forest = cross_val_predict(forest_clf, X_train, y_train, cv=3, method='predict_proba')"
   ]
  },
  {
   "cell_type": "code",
   "execution_count": 26,
   "metadata": {
    "collapsed": false
   },
   "outputs": [
    {
     "data": {
      "text/plain": [
       "array([[0.3, 0.7],\n",
       "       [0. , 1. ],\n",
       "       [0.1, 0.9],\n",
       "       ...,\n",
       "       [1. , 0. ],\n",
       "       [0.8, 0.2],\n",
       "       [0. , 1. ]])"
      ]
     },
     "execution_count": 26,
     "metadata": {},
     "output_type": "execute_result"
    }
   ],
   "source": [
    "y_probas_forest\n",
    "## Row per instance\n",
    "## Column per class\n",
    "## each containing the prob that the given instances belongs to the given class"
   ]
  },
  {
   "cell_type": "code",
   "execution_count": 27,
   "metadata": {
    "collapsed": true
   },
   "outputs": [],
   "source": [
    "## But to plot a ROC curve we need scores, not probabilities\n",
    "## To fix this we use the psoitive class's probability as the score:\n",
    "\n",
    "y_scores_forest = y_probas_forest[:, 1] # score = proba of positive class\n",
    "fpr_forest, trp_forest, thresholds_forest = roc_curve(y_train, y_scores_forest)"
   ]
  },
  {
   "cell_type": "code",
   "execution_count": 28,
   "metadata": {
    "collapsed": false
   },
   "outputs": [
    {
     "data": {
      "image/png": "[encoded data removed]",
      "text/plain": [
       "<matplotlib.figure.Figure at 0x1fdf5411c88>"
      ]
     },
     "metadata": {},
     "output_type": "display_data"
    }
   ],
   "source": [
    "plt.plot(fpr,tpr,'b:',label='SGD')\n",
    "plot_roc_curve(fpr_forest, trp_forest, 'Random Forest')\n",
    "plt.legend(loc='lower right')\n",
    "plt.show()"
   ]
  },
  {
   "cell_type": "code",
   "execution_count": 29,
   "metadata": {
    "collapsed": false
   },
   "outputs": [
    {
     "data": {
      "text/plain": [
       "0.8342279746997348"
      ]
     },
     "execution_count": 29,
     "metadata": {},
     "output_type": "execute_result"
    }
   ],
   "source": [
    "roc_auc_score(y_train, y_scores_forest)"
   ]
  },
  {
   "cell_type": "code",
   "execution_count": 30,
   "metadata": {
    "collapsed": false
   },
   "outputs": [
    {
     "data": {
      "text/plain": [
       "0.7755681818181818"
      ]
     },
     "execution_count": 30,
     "metadata": {},
     "output_type": "execute_result"
    }
   ],
   "source": [
    "y_train_pred_forest = cross_val_predict(forest_clf, X_train, y_train, cv=3)\n",
    "precision_score(y_train, y_train_pred_forest)"
   ]
  },
  {
   "cell_type": "code",
   "execution_count": 31,
   "metadata": {
    "collapsed": false
   },
   "outputs": [
    {
     "data": {
      "text/plain": [
       "0.724907063197026"
      ]
     },
     "execution_count": 31,
     "metadata": {},
     "output_type": "execute_result"
    }
   ],
   "source": [
    "recall_score(y_train, y_train_pred_forest)"
   ]
  },
  {
   "cell_type": "code",
   "execution_count": 32,
   "metadata": {
    "collapsed": false
   },
   "outputs": [
    {
     "data": {
      "text/plain": [
       "0.7493823771616799"
      ]
     },
     "execution_count": 32,
     "metadata": {},
     "output_type": "execute_result"
    }
   ],
   "source": [
    "f1_score(y_train, y_train_pred_forest)"
   ]
  },
  {
   "cell_type": "markdown",
   "metadata": {},
   "source": [
    "Better!  But we can likely do even better than this with more data pre-processing.  Let's take a look at the attriubte importance."
   ]
  },
  {
   "cell_type": "code",
   "execution_count": 33,
   "metadata": {
    "collapsed": false
   },
   "outputs": [
    {
     "data": {
      "text/plain": [
       "[(0.0806952214207121, 'A_listed_count'),\n",
       " (0.07974526376552896, 'A_follower_count'),\n",
       " (0.07971251457812156, 'B_listed_count'),\n",
       " (0.0778636036513697, 'B_network_feature_1'),\n",
       " (0.06960952679523, 'A_retweets_received'),\n",
       " (0.05930215229213289, 'B_mentions_received'),\n",
       " (0.05811247527480008, 'A_network_feature_1'),\n",
       " (0.05492866457241317, 'B_retweets_received'),\n",
       " (0.047270370236004285, 'B_follower_count'),\n",
       " (0.047168416258084316, 'A_mentions_received'),\n",
       " (0.03614681141942456, 'A_following_count'),\n",
       " (0.03227892045794395, 'B_following_count'),\n",
       " (0.03120583318475368, 'A_network_feature_2'),\n",
       " (0.03119033279104832, 'A_network_feature_3'),\n",
       " (0.03067912390157332, 'B_mentions_sent'),\n",
       " (0.03063720743637912, 'A_posts'),\n",
       " (0.029908697420772838, 'B_network_feature_3'),\n",
       " (0.02926882154851146, 'B_posts'),\n",
       " (0.02835596604779562, 'B_network_feature_2'),\n",
       " (0.026959559885129315, 'A_mentions_sent'),\n",
       " (0.01987725497578207, 'A_retweets_sent'),\n",
       " (0.019083262086488716, 'B_retweets_sent')]"
      ]
     },
     "execution_count": 33,
     "metadata": {},
     "output_type": "execute_result"
    }
   ],
   "source": [
    "attribs_list = list(X_train)\n",
    "\n",
    "forest_clf.fit(X_train, y_train)\n",
    "\n",
    "fi = sorted(zip(forest_clf.feature_importances_, attribs_list), reverse=True)\n",
    "fi"
   ]
  },
  {
   "cell_type": "code",
   "execution_count": null,
   "metadata": {
    "collapsed": true
   },
   "outputs": [],
   "source": []
  },
  {
   "cell_type": "code",
   "execution_count": 34,
   "metadata": {
    "collapsed": false
   },
   "outputs": [
    {
     "data": {
      "text/plain": [
       "array([0.76072607, 0.76363636, 0.74668874])"
      ]
     },
     "execution_count": 34,
     "metadata": {},
     "output_type": "execute_result"
    }
   ],
   "source": [
    "cross_val_score(forest_clf, X_test, y_test, cv=3, scoring='accuracy')"
   ]
  },
  {
   "cell_type": "markdown",
   "metadata": {},
   "source": [
    "# Boosting"
   ]
  },
  {
   "cell_type": "code",
   "execution_count": 35,
   "metadata": {
    "collapsed": false
   },
   "outputs": [
    {
     "data": {
      "text/plain": [
       "(12, 0.2721763085399449)"
      ]
     },
     "execution_count": 35,
     "metadata": {},
     "output_type": "execute_result"
    }
   ],
   "source": [
    "from sklearn.ensemble import GradientBoostingClassifier\n",
    "from sklearn.metrics import mean_squared_error \n",
    "\n",
    "## implement early stopping by actually stopping training early (instead of a large number of trees first\n",
    "## and then looking back to find the optimal number)\n",
    "\n",
    "## This can be accomplished by setting warm_start=True -- allows for incremental learning \n",
    "## The following code stsops straining when the validation error does not improve for 5 iterations in a row \n",
    "\n",
    "gbrt = GradientBoostingClassifier(max_depth=2, warm_start=True)\n",
    "\n",
    "min_val_error = float('inf')\n",
    "error_going_up = 0\n",
    "for n_estimators in range(1, 120):\n",
    "    gbrt.n_estimators = n_estimators # The number of boosting stages to perform \n",
    "    gbrt.fit(X_train, y_train)\n",
    "    y_pred = gbrt.predict(X_test)\n",
    "    val_error = mean_squared_error(y_test, y_pred)\n",
    "    if val_error < min_val_error:\n",
    "        min_val_error = val_error\n",
    "        error_going_up = 0 \n",
    "    else:\n",
    "        error_going_up += 1\n",
    "        if error_going_up == 5:\n",
    "            break # early stopping \n",
    "\n",
    "n_estimators, min_val_error"
   ]
  },
  {
   "cell_type": "code",
   "execution_count": 36,
   "metadata": {
    "collapsed": false
   },
   "outputs": [
    {
     "data": {
      "text/plain": [
       "GradientBoostingClassifier(criterion='friedman_mse', init=None,\n",
       "              learning_rate=0.1, loss='deviance', max_depth=2,\n",
       "              max_features=None, max_leaf_nodes=None,\n",
       "              min_impurity_decrease=0.0, min_impurity_split=None,\n",
       "              min_samples_leaf=1, min_samples_split=2,\n",
       "              min_weight_fraction_leaf=0.0, n_estimators=12,\n",
       "              presort='auto', random_state=None, subsample=1.0, verbose=0,\n",
       "              warm_start=False)"
      ]
     },
     "execution_count": 36,
     "metadata": {},
     "output_type": "execute_result"
    }
   ],
   "source": [
    "gbrt_best = GradientBoostingClassifier(max_depth=2, n_estimators=12)\n",
    "gbrt_best.fit(X_train, y_train)"
   ]
  },
  {
   "cell_type": "code",
   "execution_count": 37,
   "metadata": {
    "collapsed": false
   },
   "outputs": [
    {
     "data": {
      "text/plain": [
       "array([0.74917492, 0.77024793, 0.78476821])"
      ]
     },
     "execution_count": 37,
     "metadata": {},
     "output_type": "execute_result"
    }
   ],
   "source": [
    "cross_val_score(gbrt_best, X_test, y_test, cv=3, scoring='accuracy')"
   ]
  },
  {
   "cell_type": "markdown",
   "metadata": {},
   "source": [
    "Boosting has best accuracy so far!"
   ]
  },
  {
   "cell_type": "markdown",
   "metadata": {},
   "source": [
    "# Logistic Regression"
   ]
  },
  {
   "cell_type": "code",
   "execution_count": 38,
   "metadata": {
    "collapsed": false
   },
   "outputs": [
    {
     "data": {
      "text/plain": [
       "array([0.72277228, 0.74545455, 0.74503311])"
      ]
     },
     "execution_count": 38,
     "metadata": {},
     "output_type": "execute_result"
    }
   ],
   "source": [
    "from sklearn.linear_model import LogisticRegression\n",
    "\n",
    "log_reg = LogisticRegression()\n",
    "log_reg.fit(X_train, y_train)\n",
    "\n",
    "cross_val_score(log_reg, X_test, y_test, cv=3, scoring='accuracy')"
   ]
  },
  {
   "cell_type": "code",
   "execution_count": 39,
   "metadata": {
    "collapsed": true
   },
   "outputs": [],
   "source": [
    "# Feel free to expand upon logistic regression"
   ]
  },
  {
   "cell_type": "markdown",
   "metadata": {},
   "source": [
    "# Summary of Accuracy Scores"
   ]
  },
  {
   "cell_type": "code",
   "execution_count": 40,
   "metadata": {
    "collapsed": false
   },
   "outputs": [
    {
     "data": {
      "text/plain": [
       "VotingClassifier(estimators=[('lr', LogisticRegression(C=1.0, class_weight=None, dual=False, fit_intercept=True,\n",
       "          intercept_scaling=1, max_iter=100, multi_class='ovr', n_jobs=1,\n",
       "          penalty='l2', random_state=None, solver='liblinear', tol=0.0001,\n",
       "          verbose=0, warm_start=False)), ('rf', RandomF...='l2', power_t=0.5, random_state=None,\n",
       "       shuffle=True, tol=None, verbose=0, warm_start=False))],\n",
       "         flatten_transform=None, n_jobs=1, voting='hard', weights=None)"
      ]
     },
     "execution_count": 40,
     "metadata": {},
     "output_type": "execute_result"
    }
   ],
   "source": [
    "from sklearn.ensemble import RandomForestClassifier \n",
    "from sklearn.ensemble import VotingClassifier\n",
    "from sklearn.linear_model import LogisticRegression\n",
    "from sklearn.svm import SVC\n",
    "from sklearn.metrics import accuracy_score\n",
    "\n",
    "log_clf = LogisticRegression()\n",
    "rnd_clf = RandomForestClassifier()\n",
    "svm_clf = SVC()\n",
    "gbrt_clf = GradientBoostingClassifier(max_depth=2, n_estimators=12)\n",
    "sgd_clf = SGDClassifier()\n",
    "\n",
    "voting_clf = VotingClassifier(estimators=[('lr', log_clf), ('rf', rnd_clf), ('svc', svm_clf), ('grbt',gbrt_clf),\n",
    "                                         ('sgd', sgd_clf)], voting='hard')\n",
    "voting_clf.fit(X_train, y_train)"
   ]
  },
  {
   "cell_type": "code",
   "execution_count": 41,
   "metadata": {
    "collapsed": false
   },
   "outputs": [
    {
     "name": "stdout",
     "output_type": "stream",
     "text": [
      "LogisticRegression 0.7515151515151515\n",
      "RandomForestClassifier 0.771900826446281\n",
      "SVC 0.5173553719008265\n",
      "GradientBoostingClassifier 0.7669421487603306\n",
      "SGDClassifier 0.7068870523415978\n",
      "VotingClassifier 0.7823691460055097\n"
     ]
    }
   ],
   "source": [
    "# Hard-voting\n",
    "for clf in (log_reg, rnd_clf, svm_clf, gbrt_clf, sgd_clf, voting_clf):\n",
    "    clf.fit(X_train, y_train)\n",
    "    y_pred = clf.predict(X_test)\n",
    "    print(clf.__class__.__name__, accuracy_score(y_test, y_pred))"
   ]
  },
  {
   "cell_type": "code",
   "execution_count": 42,
   "metadata": {
    "collapsed": false
   },
   "outputs": [
    {
     "name": "stdout",
     "output_type": "stream",
     "text": [
      "LogisticRegression 0.7515151515151515\n",
      "RandomForestClassifier 0.7680440771349862\n",
      "GradientBoostingClassifier 0.7669421487603306\n",
      "VotingClassifier 0.7707988980716254\n"
     ]
    }
   ],
   "source": [
    "## If all the classifiers in the ensemble are able to predict probabilities, then you can tle scikit learn to \n",
    "## predict the class with the highest class probability, averaged over all the individual classifiers \n",
    "## This is called *soft voting* - all you have to do is replace voting='hard' with voting='soft'\n",
    "\n",
    "\n",
    "log_clf = LogisticRegression(random_state=42)\n",
    "rnd_clf = RandomForestClassifier(random_state=42)\n",
    "gbrt_clf = GradientBoostingClassifier(max_depth=2, n_estimators=12, random_state=42)\n",
    "\n",
    "# svm_clf_soft = SVC(probability=True, random_state=42) #Need probability=True for SVC to output a predict_proba method\n",
    "# Take svm out since it seems to adversly affect soft voting \n",
    "# sgd_clf = SGDClassifier(random_state=42) # cant get it to work with soft voting \n",
    "\n",
    "\n",
    "voting_clf_soft = VotingClassifier(estimators=[('lr', log_clf), ('rf', rnd_clf), ('grbt',gbrt_clf)], voting='soft')\n",
    "\n",
    "voting_clf_soft.fit(X_train, y_train)\n",
    "\n",
    "\n",
    "for clf in (log_reg, rnd_clf, gbrt_clf, voting_clf_soft):\n",
    "    clf.fit(X_train, y_train)\n",
    "    y_pred = clf.predict(X_test)\n",
    "    print(clf.__class__.__name__, accuracy_score(y_test, y_pred))"
   ]
  },
  {
   "cell_type": "code",
   "execution_count": 43,
   "metadata": {
    "collapsed": false
   },
   "outputs": [
    {
     "data": {
      "text/plain": [
       "array([[0.40638088, 0.59361912],\n",
       "       [0.17417058, 0.82582942],\n",
       "       [0.31187963, 0.68812037],\n",
       "       ...,\n",
       "       [0.76778841, 0.23221159],\n",
       "       [0.43983999, 0.56016001],\n",
       "       [0.16369693, 0.83630307]])"
      ]
     },
     "execution_count": 43,
     "metadata": {},
     "output_type": "execute_result"
    }
   ],
   "source": [
    "y_probas_voting = cross_val_predict(voting_clf_soft, X_train, y_train, cv=3, method='predict_proba')\n",
    "y_probas_voting"
   ]
  },
  {
   "cell_type": "code",
   "execution_count": 44,
   "metadata": {
    "collapsed": false
   },
   "outputs": [],
   "source": [
    "y_scores_voting = y_probas_voting[:, 1] # score = proba of positive class\n",
    "fpr_voting, trp_voting, thresholds_voting = roc_curve(y_train, y_scores_voting)"
   ]
  },
  {
   "cell_type": "code",
   "execution_count": 45,
   "metadata": {
    "collapsed": false
   },
   "outputs": [
    {
     "data": {
      "image/png": "[encoded data removed]",
      "text/plain": [
       "<matplotlib.figure.Figure at 0x1fdfb9bd198>"
      ]
     },
     "metadata": {},
     "output_type": "display_data"
    }
   ],
   "source": [
    "plt.plot(fpr,tpr,'b:',label='SGD')\n",
    "plt.plot(fpr_forest, trp_forest,'g:',label='Forest')\n",
    "plot_roc_curve(fpr_voting, trp_voting, 'Voting Classifier')\n",
    "plt.legend(loc='lower right')\n",
    "plt.show()"
   ]
  },
  {
   "cell_type": "code",
   "execution_count": 46,
   "metadata": {
    "collapsed": false
   },
   "outputs": [
    {
     "data": {
      "text/plain": [
       "0.8520157870260401"
      ]
     },
     "execution_count": 46,
     "metadata": {},
     "output_type": "execute_result"
    }
   ],
   "source": [
    "roc_auc_score(y_train, y_scores_voting)"
   ]
  },
  {
   "cell_type": "code",
   "execution_count": 47,
   "metadata": {
    "collapsed": false
   },
   "outputs": [
    {
     "data": {
      "text/plain": [
       "0.7725612936880543"
      ]
     },
     "execution_count": 47,
     "metadata": {},
     "output_type": "execute_result"
    }
   ],
   "source": [
    "y_train_pred_voting = cross_val_predict(voting_clf_soft, X_train, y_train, cv=3)\n",
    "precision_score(y_train, y_train_pred_voting)"
   ]
  },
  {
   "cell_type": "code",
   "execution_count": 48,
   "metadata": {
    "collapsed": false
   },
   "outputs": [
    {
     "data": {
      "text/plain": [
       "0.786510886882634"
      ]
     },
     "execution_count": 48,
     "metadata": {},
     "output_type": "execute_result"
    }
   ],
   "source": [
    "recall_score(y_train, y_train_pred_voting)"
   ]
  },
  {
   "cell_type": "code",
   "execution_count": 49,
   "metadata": {
    "collapsed": false
   },
   "outputs": [
    {
     "data": {
      "text/plain": [
       "0.7794736842105263"
      ]
     },
     "execution_count": 49,
     "metadata": {},
     "output_type": "execute_result"
    }
   ],
   "source": [
    "f1_score(y_train, y_train_pred_voting)"
   ]
  },
  {
   "cell_type": "markdown",
   "metadata": {
    "collapsed": true
   },
   "source": [
    "# Test out maximizing precision"
   ]
  },
  {
   "cell_type": "code",
   "execution_count": 50,
   "metadata": {
    "collapsed": false
   },
   "outputs": [],
   "source": [
    "y_scores = cross_val_predict(sgd_clf, X_train_scaled, y_train, cv=3, method='decision_function')"
   ]
  },
  {
   "cell_type": "code",
   "execution_count": 51,
   "metadata": {
    "collapsed": true
   },
   "outputs": [],
   "source": [
    "y_train_pred_90 = (y_scores > 300)"
   ]
  },
  {
   "cell_type": "code",
   "execution_count": 52,
   "metadata": {
    "collapsed": false
   },
   "outputs": [
    {
     "data": {
      "text/plain": [
       "(0.0, 0.0)"
      ]
     },
     "execution_count": 52,
     "metadata": {},
     "output_type": "execute_result"
    }
   ],
   "source": [
    "precision_score(y_train, y_train_pred_90), recall_score(y_train,y_train_pred_90)"
   ]
  },
  {
   "cell_type": "markdown",
   "metadata": {
    "collapsed": true
   },
   "source": [
    "Not Worth"
   ]
  },
  {
   "cell_type": "markdown",
   "metadata": {},
   "source": [
    "## TensorFlow for fun"
   ]
  },
  {
   "cell_type": "code",
   "execution_count": 53,
   "metadata": {
    "collapsed": true
   },
   "outputs": [],
   "source": [
    "import tensorflow as tf"
   ]
  },
  {
   "cell_type": "code",
   "execution_count": 54,
   "metadata": {
    "collapsed": true
   },
   "outputs": [],
   "source": [
    "# to make this notebook's output stable across runs\n",
    "def reset_graph(seed=42):\n",
    "    tf.reset_default_graph()\n",
    "    tf.set_random_seed(seed)\n",
    "    np.random.seed(seed)\n",
    "\n",
    "from functools import partial"
   ]
  },
  {
   "cell_type": "markdown",
   "metadata": {},
   "source": [
    "Quick aside on how to make a network:\n",
    "\n",
    "1. Construct the layers as above\n",
    "\n",
    "2. Define the cost function\n",
    "\n",
    "3. Define the evaluation operations \n",
    "\n",
    "4. create a variable initializer \n",
    "\n",
    "5. create a Saver\n",
    "\n",
    "6. Execution phase (entails its whole own set of steps)"
   ]
  },
  {
   "cell_type": "code",
   "execution_count": 55,
   "metadata": {
    "collapsed": false
   },
   "outputs": [],
   "source": [
    "reset_graph()\n",
    "\n",
    "n_inputs = X_train.shape[1]\n",
    "n_hidden1 = 300\n",
    "n_hidden2 = 100\n",
    "# n_hidden3 = 50 # testing out \n",
    "n_outputs = 2\n",
    "batch_norm_momentum = 0.9\n",
    "learning_rate = 0.01\n",
    "\n",
    "X = tf.placeholder(tf.float32, shape=(None, n_inputs), name=\"X\")\n",
    "y = tf.placeholder(tf.int64, shape=(None), name=\"y\")\n",
    "training = tf.placeholder_with_default(False, shape=(), name='training')\n",
    "\n",
    "\n",
    "with tf.name_scope(\"dnn\"):\n",
    "    he_init = tf.contrib.layers.variance_scaling_initializer()\n",
    "\n",
    "    my_batch_norm_layer = partial(\n",
    "            tf.layers.batch_normalization,\n",
    "            training=training,\n",
    "            momentum=batch_norm_momentum)\n",
    "\n",
    "    my_dense_layer = partial(\n",
    "            tf.layers.dense,\n",
    "            kernel_initializer=he_init)\n",
    "# Part 1.\n",
    "    hidden1 = my_dense_layer(X, n_hidden1, name=\"hidden1\")\n",
    "    bn1 = tf.nn.elu(my_batch_norm_layer(hidden1))\n",
    "    hidden2 = my_dense_layer(bn1, n_hidden2, name=\"hidden2\")\n",
    "    bn2 = tf.nn.elu(my_batch_norm_layer(hidden2))\n",
    "    \n",
    "#     hidden3 = my_dense_layer(bn2, n_hidden3, name=\"hidden3\")\n",
    "#     bn3 = tf.nn.elu(my_batch_norm_layer(hidden3))\n",
    "    \n",
    "    logits_before_bn = my_dense_layer(bn2, n_outputs, name=\"outputs\")\n",
    "    logits = my_batch_norm_layer(logits_before_bn)\n",
    "\n",
    "# Part 2.\n",
    "with tf.name_scope(\"loss\"):\n",
    "    xentropy = tf.nn.sparse_softmax_cross_entropy_with_logits(labels=y, logits=logits)\n",
    "    loss = tf.reduce_mean(xentropy, name=\"loss\")\n",
    "    \n",
    "# Part 3.\n",
    "with tf.name_scope(\"train\"):\n",
    "    optimizer = tf.train.GradientDescentOptimizer(learning_rate)\n",
    "    training_op = optimizer.minimize(loss)\n",
    "\n",
    "with tf.name_scope(\"eval\"):\n",
    "    correct = tf.nn.in_top_k(logits, y, 1)\n",
    "    accuracy = tf.reduce_mean(tf.cast(correct, tf.float32))\n",
    "    \n",
    "# Part 4.\n",
    "init = tf.global_variables_initializer()\n",
    "saver = tf.train.Saver()"
   ]
  },
  {
   "cell_type": "code",
   "execution_count": 56,
   "metadata": {
    "collapsed": false
   },
   "outputs": [
    {
     "name": "stdout",
     "output_type": "stream",
     "text": [
      "0 Test accuracy 0.6589532\n",
      "5 Test accuracy 0.7415978\n",
      "10 Test accuracy 0.7151515\n",
      "15 Test accuracy 0.7245179\n",
      "20 Test accuracy 0.73498625\n",
      "25 Test accuracy 0.7245179\n",
      "30 Test accuracy 0.7355372\n",
      "35 Test accuracy 0.73002756\n",
      "39 Test accuracy 0.7063361\n"
     ]
    }
   ],
   "source": [
    "## The execuation phase here is much the same, save for two exceptions:\n",
    "\n",
    "## 1. During training whenever you run and operation that depends on the batch_normalization() layer, you need to set \n",
    "## the training placeholder = True \n",
    "\n",
    "## 2. the batch_normalization function creates a few operations that must be evaluated at each step during training \n",
    "## in order to update the moving averages \n",
    "\n",
    "## These operations are automatically added to the UPDATE_OPS collection, so we just need to get the list of operations in that \n",
    "## collection and run them at each training iteration \n",
    "\n",
    "# Part 6.\n",
    "n_epochs = 40 # Seems to cap out at ~30 epochs\n",
    "batch_size = 50 #Lower batch size seems to work better \n",
    "\n",
    "extra_update_ops = tf.get_collection(tf.GraphKeys.UPDATE_OPS)\n",
    "\n",
    "with tf.Session() as sess:\n",
    "    init.run()\n",
    "    for epoch in range(n_epochs):\n",
    "        for iteration in range(X_train.shape[0] // batch_size):\n",
    "            X_batch, y_batch = X_train[iteration:iteration+batch_size], y_train[iteration:iteration+batch_size]\n",
    "            sess.run([training_op, extra_update_ops], feed_dict={training: True, X: X_batch, y: y_batch})\n",
    "        accuracy_val = accuracy.eval(feed_dict={X: X_test, y: y_test})\n",
    "        if epoch%5 == 0 or epoch == n_epochs-1:\n",
    "            print(epoch, \"Test accuracy\", accuracy_val)\n",
    "        \n",
    "    save_path = saver.save(sess, \"./my_model_final.ckpt\")"
   ]
  },
  {
   "cell_type": "markdown",
   "metadata": {},
   "source": [
    "Hmm it does about that same as random forest...let's try adding dropout and NAG"
   ]
  },
  {
   "cell_type": "code",
   "execution_count": 57,
   "metadata": {
    "collapsed": false
   },
   "outputs": [],
   "source": [
    "reset_graph()\n",
    "\n",
    "n_inputs = X_train.shape[1]\n",
    "n_hidden1 = 1000 #300\n",
    "n_hidden2 = 500 #100\n",
    "n_hidden3 = 200 # testing out -- 50\n",
    "n_hidden4 = 50 # testing out\n",
    "n_outputs = 2\n",
    "batch_norm_momentum = 0.9\n",
    "learning_rate = 0.01\n",
    "\n",
    "X = tf.placeholder(tf.float32, shape=(None, n_inputs), name=\"X\")\n",
    "y = tf.placeholder(tf.int64, shape=(None), name=\"y\")\n",
    "training = tf.placeholder_with_default(False, shape=(), name='training')\n",
    "\n",
    "## DROPOUT ## \n",
    "dropout_rate = 0.5  # == 1 - keep_prob\n",
    "X_drop = tf.layers.dropout(X, dropout_rate, training=training)\n",
    "\n",
    "\n",
    "with tf.name_scope(\"dnn\"):\n",
    "    he_init = tf.contrib.layers.variance_scaling_initializer()\n",
    "\n",
    "    my_batch_norm_layer = partial(\n",
    "            tf.layers.batch_normalization,\n",
    "            training=training,\n",
    "            momentum=batch_norm_momentum)\n",
    "\n",
    "    my_dense_layer = partial(\n",
    "            tf.layers.dense,\n",
    "            kernel_initializer=he_init)\n",
    "# Part 1.\n",
    "    hidden1 = my_dense_layer(X_drop, n_hidden1, name=\"hidden1\")\n",
    "    hidden1_drop = tf.layers.dropout(hidden1, dropout_rate, training=training)\n",
    "    bn1 = tf.nn.elu(my_batch_norm_layer(hidden1_drop))\n",
    "    \n",
    "    hidden2 = my_dense_layer(bn1, n_hidden2, name=\"hidden2\")\n",
    "    hidden2_drop = tf.layers.dropout(hidden2, dropout_rate, training=training)\n",
    "    bn2 = tf.nn.elu(my_batch_norm_layer(hidden2_drop))\n",
    "    \n",
    "    hidden3 = my_dense_layer(bn2, n_hidden3, name=\"hidden3\")\n",
    "    hidden3_drop = tf.layers.dropout(hidden3, dropout_rate, training=training)\n",
    "    bn3 = tf.nn.elu(my_batch_norm_layer(hidden3))\n",
    "    \n",
    "#     hidden4 = my_dense_layer(bn3, n_hidden4, name=\"hidden4\")\n",
    "#     hidden4_drop = tf.layers.dropout(hidden4, dropout_rate, training=training)\n",
    "#     bn4 = tf.nn.elu(my_batch_norm_layer(hidden3))\n",
    "    \n",
    "    logits_before_bn = my_dense_layer(bn3, n_outputs, name=\"outputs\")\n",
    "    logits = my_batch_norm_layer(logits_before_bn)\n",
    "\n",
    "# Part 2.\n",
    "with tf.name_scope(\"loss\"):\n",
    "    xentropy = tf.nn.sparse_softmax_cross_entropy_with_logits(labels=y, logits=logits)\n",
    "    loss = tf.reduce_mean(xentropy, name=\"loss\")\n",
    "    \n",
    "# Part 3.\n",
    "with tf.name_scope(\"train\"):\n",
    "#     optimizer = tf.train.GradientDescentOptimizer(learning_rate)\n",
    "    optimizer = tf.train.MomentumOptimizer(learning_rate=learning_rate,\n",
    "                                       momentum=0.9, use_nesterov=True)\n",
    "    training_op = optimizer.minimize(loss)\n",
    "\n",
    "with tf.name_scope(\"eval\"):\n",
    "    correct = tf.nn.in_top_k(logits, y, 1)\n",
    "    accuracy = tf.reduce_mean(tf.cast(correct, tf.float32))\n",
    "    \n",
    "# Part 4.\n",
    "init = tf.global_variables_initializer()\n",
    "saver = tf.train.Saver()"
   ]
  },
  {
   "cell_type": "code",
   "execution_count": 58,
   "metadata": {
    "collapsed": false
   },
   "outputs": [
    {
     "name": "stdout",
     "output_type": "stream",
     "text": [
      "0 Batch accuracy: 0.68 Validation accuracy: 0.6380165\n",
      "5 Batch accuracy: 0.72 Validation accuracy: 0.7013774\n",
      "10 Batch accuracy: 0.7 Validation accuracy: 0.68705237\n",
      "15 Batch accuracy: 0.74 Validation accuracy: 0.73002756\n",
      "20 Batch accuracy: 0.72 Validation accuracy: 0.7090909\n",
      "25 Batch accuracy: 0.78 Validation accuracy: 0.74104685\n",
      "30 Batch accuracy: 0.7 Validation accuracy: 0.71294767\n",
      "35 Batch accuracy: 0.7 Validation accuracy: 0.71294767\n",
      "40 Batch accuracy: 0.72 Validation accuracy: 0.7201102\n",
      "45 Batch accuracy: 0.74 Validation accuracy: 0.7217631\n",
      "50 Batch accuracy: 0.74 Validation accuracy: 0.71790636\n",
      "55 Batch accuracy: 0.78 Validation accuracy: 0.73112947\n",
      "60 Batch accuracy: 0.74 Validation accuracy: 0.72892565\n",
      "65 Batch accuracy: 0.74 Validation accuracy: 0.723416\n",
      "69 Batch accuracy: 0.72 Validation accuracy: 0.72506887\n"
     ]
    }
   ],
   "source": [
    "n_epochs = 70 \n",
    "batch_size = 50 #Lower batch size seems to work better -- 50 seems to be optimal here \n",
    "\n",
    "extra_update_ops = tf.get_collection(tf.GraphKeys.UPDATE_OPS)\n",
    "\n",
    "with tf.Session() as sess:\n",
    "    init.run()\n",
    "    for epoch in range(n_epochs):\n",
    "        for iteration in range(X_train.shape[0] // batch_size):\n",
    "            X_batch, y_batch = X_train[iteration:iteration+batch_size], y_train[iteration:iteration+batch_size]\n",
    "            sess.run([training_op, extra_update_ops], feed_dict={training: True, X: X_batch, y: y_batch})\n",
    "        if epoch%5 == 0 or epoch == n_epochs-1:\n",
    "            acc_train = accuracy.eval(feed_dict={X: X_batch, y: y_batch})\n",
    "            accuracy_val = accuracy.eval(feed_dict={X: X_test, y: y_test})\n",
    "            print(epoch, \"Batch accuracy:\", acc_train, \"Validation accuracy:\", accuracy_val)\n",
    "        \n",
    "    save_path = saver.save(sess, \"./my_model_final.ckpt\")"
   ]
  },
  {
   "cell_type": "markdown",
   "metadata": {},
   "source": [
    "Notes on the model: \n",
    "\n",
    "1. 3 layers with a batch size of 50 seems to get the best accuracy\n",
    "\n",
    "2. Higher number of nodes per layer seems to get higher accuracy - but takes much longer to compute\n",
    "\n",
    "3. No matter what setting I use I seem to cap out around 72-74% Tests Accuracy - worse than the logistic regression\n",
    "\n"
   ]
  },
  {
   "cell_type": "code",
   "execution_count": null,
   "metadata": {
    "collapsed": true
   },
   "outputs": [],
   "source": []
  },
  {
   "cell_type": "markdown",
   "metadata": {
    "collapsed": true
   },
   "source": [
    "## Financial Value"
   ]
  },
  {
   "cell_type": "code",
   "execution_count": 59,
   "metadata": {
    "collapsed": false
   },
   "outputs": [
    {
     "data": {
      "text/plain": [
       "['Choice',\n",
       " 'A_follower_count',\n",
       " 'A_following_count',\n",
       " 'A_listed_count',\n",
       " 'A_mentions_received',\n",
       " 'A_retweets_received',\n",
       " 'A_mentions_sent',\n",
       " 'A_retweets_sent',\n",
       " 'A_posts',\n",
       " 'A_network_feature_1',\n",
       " 'A_network_feature_2',\n",
       " 'A_network_feature_3',\n",
       " 'B_follower_count',\n",
       " 'B_following_count',\n",
       " 'B_listed_count',\n",
       " 'B_mentions_received',\n",
       " 'B_retweets_received',\n",
       " 'B_mentions_sent',\n",
       " 'B_retweets_sent',\n",
       " 'B_posts',\n",
       " 'B_network_feature_1',\n",
       " 'B_network_feature_2',\n",
       " 'B_network_feature_3']"
      ]
     },
     "execution_count": 59,
     "metadata": {},
     "output_type": "execute_result"
    }
   ],
   "source": [
    "list(train_df)"
   ]
  },
  {
   "cell_type": "code",
   "execution_count": 75,
   "metadata": {
    "collapsed": false
   },
   "outputs": [
    {
     "data": {
      "text/html": [
       "<div>\n",
       "<table border=\"1\" class=\"dataframe\">\n",
       "  <thead>\n",
       "    <tr style=\"text-align: right;\">\n",
       "      <th></th>\n",
       "      <th>Choice</th>\n",
       "      <th>A_follower_count</th>\n",
       "      <th>B_follower_count</th>\n",
       "    </tr>\n",
       "  </thead>\n",
       "  <tbody>\n",
       "    <tr>\n",
       "      <th>0</th>\n",
       "      <td>0</td>\n",
       "      <td>228</td>\n",
       "      <td>34463</td>\n",
       "    </tr>\n",
       "    <tr>\n",
       "      <th>1</th>\n",
       "      <td>0</td>\n",
       "      <td>21591</td>\n",
       "      <td>39262</td>\n",
       "    </tr>\n",
       "    <tr>\n",
       "      <th>2</th>\n",
       "      <td>0</td>\n",
       "      <td>7310</td>\n",
       "      <td>3622</td>\n",
       "    </tr>\n",
       "    <tr>\n",
       "      <th>3</th>\n",
       "      <td>0</td>\n",
       "      <td>20</td>\n",
       "      <td>19562</td>\n",
       "    </tr>\n",
       "    <tr>\n",
       "      <th>4</th>\n",
       "      <td>1</td>\n",
       "      <td>45589</td>\n",
       "      <td>7554</td>\n",
       "    </tr>\n",
       "  </tbody>\n",
       "</table>\n",
       "</div>"
      ],
      "text/plain": [
       "   Choice  A_follower_count  B_follower_count\n",
       "0       0               228             34463\n",
       "1       0             21591             39262\n",
       "2       0              7310              3622\n",
       "3       0                20             19562\n",
       "4       1             45589              7554"
      ]
     },
     "execution_count": 75,
     "metadata": {},
     "output_type": "execute_result"
    }
   ],
   "source": [
    "fin_df = train_df[['Choice', 'A_follower_count', 'B_follower_count']].copy()\n",
    "fin_df.head()"
   ]
  },
  {
   "cell_type": "code",
   "execution_count": 76,
   "metadata": {
    "collapsed": false
   },
   "outputs": [
    {
     "data": {
      "text/html": [
       "<div>\n",
       "<table border=\"1\" class=\"dataframe\">\n",
       "  <thead>\n",
       "    <tr style=\"text-align: right;\">\n",
       "      <th></th>\n",
       "      <th>Choice</th>\n",
       "      <th>A_follower_count</th>\n",
       "      <th>B_follower_count</th>\n",
       "      <th>A_inf_B</th>\n",
       "      <th>B_inf_A</th>\n",
       "      <th>A_expected_buy_1tweet</th>\n",
       "      <th>B_expected_buy_1tweet</th>\n",
       "      <th>expected_profit_NA</th>\n",
       "    </tr>\n",
       "  </thead>\n",
       "  <tbody>\n",
       "    <tr>\n",
       "      <th>0</th>\n",
       "      <td>0</td>\n",
       "      <td>228</td>\n",
       "      <td>34463</td>\n",
       "      <td>0</td>\n",
       "      <td>1</td>\n",
       "      <td>0.1140</td>\n",
       "      <td>17.2315</td>\n",
       "      <td>17.2315</td>\n",
       "    </tr>\n",
       "    <tr>\n",
       "      <th>1</th>\n",
       "      <td>0</td>\n",
       "      <td>21591</td>\n",
       "      <td>39262</td>\n",
       "      <td>0</td>\n",
       "      <td>1</td>\n",
       "      <td>10.7955</td>\n",
       "      <td>19.6310</td>\n",
       "      <td>19.6310</td>\n",
       "    </tr>\n",
       "    <tr>\n",
       "      <th>2</th>\n",
       "      <td>0</td>\n",
       "      <td>7310</td>\n",
       "      <td>3622</td>\n",
       "      <td>0</td>\n",
       "      <td>1</td>\n",
       "      <td>3.6550</td>\n",
       "      <td>1.8110</td>\n",
       "      <td>1.8110</td>\n",
       "    </tr>\n",
       "    <tr>\n",
       "      <th>3</th>\n",
       "      <td>0</td>\n",
       "      <td>20</td>\n",
       "      <td>19562</td>\n",
       "      <td>0</td>\n",
       "      <td>1</td>\n",
       "      <td>0.0100</td>\n",
       "      <td>9.7810</td>\n",
       "      <td>9.7810</td>\n",
       "    </tr>\n",
       "    <tr>\n",
       "      <th>4</th>\n",
       "      <td>1</td>\n",
       "      <td>45589</td>\n",
       "      <td>7554</td>\n",
       "      <td>1</td>\n",
       "      <td>0</td>\n",
       "      <td>22.7945</td>\n",
       "      <td>3.7770</td>\n",
       "      <td>22.7945</td>\n",
       "    </tr>\n",
       "  </tbody>\n",
       "</table>\n",
       "</div>"
      ],
      "text/plain": [
       "   Choice  A_follower_count  B_follower_count  A_inf_B  B_inf_A  \\\n",
       "0       0               228             34463        0        1   \n",
       "1       0             21591             39262        0        1   \n",
       "2       0              7310              3622        0        1   \n",
       "3       0                20             19562        0        1   \n",
       "4       1             45589              7554        1        0   \n",
       "\n",
       "   A_expected_buy_1tweet  B_expected_buy_1tweet  expected_profit_NA  \n",
       "0                 0.1140                17.2315             17.2315  \n",
       "1                10.7955                19.6310             19.6310  \n",
       "2                 3.6550                 1.8110              1.8110  \n",
       "3                 0.0100                 9.7810              9.7810  \n",
       "4                22.7945                 3.7770             22.7945  "
      ]
     },
     "execution_count": 76,
     "metadata": {},
     "output_type": "execute_result"
    }
   ],
   "source": [
    "## Make vectorized columns\n",
    "\n",
    "# Make columns for determining if A inf. B or B inf. A\n",
    "fin_df['A_inf_B'] = fin_df['Choice']\n",
    "fin_df['B_inf_A'] = (fin_df['Choice']-1)*-1\n",
    "\n",
    "\n",
    "# Column for probability \n",
    "fin_df['A_expected_buy_1tweet'] = fin_df['A_follower_count']*0.0005\n",
    "fin_df['B_expected_buy_1tweet'] = fin_df['B_follower_count']*0.0005\n",
    "\n",
    "# expected profit\n",
    "fin_df['expected_profit_NA'] = (fin_df['A_expected_buy_1tweet']*fin_df['A_inf_B']) + (fin_df['B_expected_buy_1tweet']*fin_df['B_inf_A'])\n",
    "\n",
    "\n",
    "fin_df.head()\n"
   ]
  },
  {
   "cell_type": "code",
   "execution_count": 77,
   "metadata": {
    "collapsed": false
   },
   "outputs": [
    {
     "data": {
      "text/plain": [
       "11000"
      ]
     },
     "execution_count": 77,
     "metadata": {},
     "output_type": "execute_result"
    }
   ],
   "source": [
    "# Find total number of tweeters\n",
    "num_tweeters = fin_df.shape[0]*2\n",
    "num_tweeters"
   ]
  },
  {
   "cell_type": "code",
   "execution_count": 78,
   "metadata": {
    "collapsed": false
   },
   "outputs": [
    {
     "data": {
      "text/plain": [
       "2633284.296499992"
      ]
     },
     "execution_count": 78,
     "metadata": {},
     "output_type": "execute_result"
    }
   ],
   "source": [
    "# Calculate expected profit from total selection \n",
    "total_cost = num_tweeters*5\n",
    "expected_buy = fin_df['expected_profit_NA'].sum()\n",
    "expected_profit = expected_buy - total_cost\n",
    "expected_profit"
   ]
  },
  {
   "cell_type": "code",
   "execution_count": 79,
   "metadata": {
    "collapsed": false
   },
   "outputs": [],
   "source": [
    "# Make new dataframe to get predictions on whole training set \n",
    "train2_df = train_df.copy()\n",
    "train2_df = train2_df.drop(['Choice'], axis=1)\n",
    "train2_target = train_df[['Choice']].copy()"
   ]
  },
  {
   "cell_type": "code",
   "execution_count": 80,
   "metadata": {
    "collapsed": false
   },
   "outputs": [
    {
     "name": "stdout",
     "output_type": "stream",
     "text": [
      "voting_clf_soft 0.8698181818181818\n"
     ]
    },
    {
     "data": {
      "text/plain": [
       "array([[2310,  388],\n",
       "       [ 328, 2474]], dtype=int64)"
      ]
     },
     "execution_count": 80,
     "metadata": {},
     "output_type": "execute_result"
    }
   ],
   "source": [
    "# clf.fit(X_train, y_train)\n",
    "y_pred = voting_clf_soft.predict(train2_df) # Get prediction probabilties \n",
    "print('voting_clf_soft', accuracy_score(train2_target, y_pred))\n",
    "# voting_clf_soft.predict_proba(train2_df)\n",
    "confusion_matrix(train2_target, y_pred)"
   ]
  },
  {
   "cell_type": "code",
   "execution_count": 81,
   "metadata": {
    "collapsed": false
   },
   "outputs": [
    {
     "data": {
      "text/plain": [
       "array([[0.7016245 , 0.2983755 ],\n",
       "       [0.40624329, 0.59375671],\n",
       "       [0.42213424, 0.57786576],\n",
       "       ...,\n",
       "       [0.38128307, 0.61871693],\n",
       "       [0.65322064, 0.34677936],\n",
       "       [0.82778585, 0.17221415]])"
      ]
     },
     "execution_count": 81,
     "metadata": {},
     "output_type": "execute_result"
    }
   ],
   "source": [
    "y_probas = cross_val_predict(voting_clf_soft, train2_df, train2_target, cv=3, method='predict_proba') # Get probabilities \n",
    "y_probas"
   ]
  },
  {
   "cell_type": "code",
   "execution_count": 82,
   "metadata": {
    "collapsed": false
   },
   "outputs": [
    {
     "data": {
      "text/html": [
       "<div>\n",
       "<table border=\"1\" class=\"dataframe\">\n",
       "  <thead>\n",
       "    <tr style=\"text-align: right;\">\n",
       "      <th></th>\n",
       "      <th>Choice</th>\n",
       "      <th>A_follower_count</th>\n",
       "      <th>B_follower_count</th>\n",
       "      <th>A_inf_B</th>\n",
       "      <th>B_inf_A</th>\n",
       "      <th>A_expected_buy_1tweet</th>\n",
       "      <th>B_expected_buy_1tweet</th>\n",
       "      <th>expected_profit_NA</th>\n",
       "      <th>prob_A_inf_B</th>\n",
       "      <th>prob_B_inf_A</th>\n",
       "    </tr>\n",
       "  </thead>\n",
       "  <tbody>\n",
       "    <tr>\n",
       "      <th>0</th>\n",
       "      <td>0</td>\n",
       "      <td>228</td>\n",
       "      <td>34463</td>\n",
       "      <td>0</td>\n",
       "      <td>1</td>\n",
       "      <td>0.1140</td>\n",
       "      <td>17.2315</td>\n",
       "      <td>17.2315</td>\n",
       "      <td>0.298376</td>\n",
       "      <td>0.701624</td>\n",
       "    </tr>\n",
       "    <tr>\n",
       "      <th>1</th>\n",
       "      <td>0</td>\n",
       "      <td>21591</td>\n",
       "      <td>39262</td>\n",
       "      <td>0</td>\n",
       "      <td>1</td>\n",
       "      <td>10.7955</td>\n",
       "      <td>19.6310</td>\n",
       "      <td>19.6310</td>\n",
       "      <td>0.593757</td>\n",
       "      <td>0.406243</td>\n",
       "    </tr>\n",
       "    <tr>\n",
       "      <th>2</th>\n",
       "      <td>0</td>\n",
       "      <td>7310</td>\n",
       "      <td>3622</td>\n",
       "      <td>0</td>\n",
       "      <td>1</td>\n",
       "      <td>3.6550</td>\n",
       "      <td>1.8110</td>\n",
       "      <td>1.8110</td>\n",
       "      <td>0.577866</td>\n",
       "      <td>0.422134</td>\n",
       "    </tr>\n",
       "    <tr>\n",
       "      <th>3</th>\n",
       "      <td>0</td>\n",
       "      <td>20</td>\n",
       "      <td>19562</td>\n",
       "      <td>0</td>\n",
       "      <td>1</td>\n",
       "      <td>0.0100</td>\n",
       "      <td>9.7810</td>\n",
       "      <td>9.7810</td>\n",
       "      <td>0.232977</td>\n",
       "      <td>0.767023</td>\n",
       "    </tr>\n",
       "    <tr>\n",
       "      <th>4</th>\n",
       "      <td>1</td>\n",
       "      <td>45589</td>\n",
       "      <td>7554</td>\n",
       "      <td>1</td>\n",
       "      <td>0</td>\n",
       "      <td>22.7945</td>\n",
       "      <td>3.7770</td>\n",
       "      <td>22.7945</td>\n",
       "      <td>0.578260</td>\n",
       "      <td>0.421740</td>\n",
       "    </tr>\n",
       "  </tbody>\n",
       "</table>\n",
       "</div>"
      ],
      "text/plain": [
       "   Choice  A_follower_count  B_follower_count  A_inf_B  B_inf_A  \\\n",
       "0       0               228             34463        0        1   \n",
       "1       0             21591             39262        0        1   \n",
       "2       0              7310              3622        0        1   \n",
       "3       0                20             19562        0        1   \n",
       "4       1             45589              7554        1        0   \n",
       "\n",
       "   A_expected_buy_1tweet  B_expected_buy_1tweet  expected_profit_NA  \\\n",
       "0                 0.1140                17.2315             17.2315   \n",
       "1                10.7955                19.6310             19.6310   \n",
       "2                 3.6550                 1.8110              1.8110   \n",
       "3                 0.0100                 9.7810              9.7810   \n",
       "4                22.7945                 3.7770             22.7945   \n",
       "\n",
       "   prob_A_inf_B  prob_B_inf_A  \n",
       "0      0.298376      0.701624  \n",
       "1      0.593757      0.406243  \n",
       "2      0.577866      0.422134  \n",
       "3      0.232977      0.767023  \n",
       "4      0.578260      0.421740  "
      ]
     },
     "execution_count": 82,
     "metadata": {},
     "output_type": "execute_result"
    }
   ],
   "source": [
    "# Add probabilities from model to dataframe\n",
    "fin_df['prob_A_inf_B'] = y_probas[:,1]\n",
    "fin_df['prob_B_inf_A'] = y_probas[:,0]\n",
    "fin_df.head()"
   ]
  },
  {
   "cell_type": "code",
   "execution_count": 83,
   "metadata": {
    "collapsed": false
   },
   "outputs": [
    {
     "data": {
      "text/html": [
       "<div>\n",
       "<table border=\"1\" class=\"dataframe\">\n",
       "  <thead>\n",
       "    <tr style=\"text-align: right;\">\n",
       "      <th></th>\n",
       "      <th>Choice</th>\n",
       "      <th>A_follower_count</th>\n",
       "      <th>B_follower_count</th>\n",
       "      <th>A_inf_B</th>\n",
       "      <th>B_inf_A</th>\n",
       "      <th>A_expected_buy_1tweet</th>\n",
       "      <th>B_expected_buy_1tweet</th>\n",
       "      <th>expected_profit_NA</th>\n",
       "      <th>prob_A_inf_B</th>\n",
       "      <th>prob_B_inf_A</th>\n",
       "      <th>A_inf_B_model</th>\n",
       "      <th>B_inf_A_model</th>\n",
       "    </tr>\n",
       "  </thead>\n",
       "  <tbody>\n",
       "    <tr>\n",
       "      <th>0</th>\n",
       "      <td>0</td>\n",
       "      <td>228</td>\n",
       "      <td>34463</td>\n",
       "      <td>0</td>\n",
       "      <td>1</td>\n",
       "      <td>0.1140</td>\n",
       "      <td>17.2315</td>\n",
       "      <td>17.2315</td>\n",
       "      <td>0.298376</td>\n",
       "      <td>0.701624</td>\n",
       "      <td>0.0</td>\n",
       "      <td>1.0</td>\n",
       "    </tr>\n",
       "    <tr>\n",
       "      <th>1</th>\n",
       "      <td>0</td>\n",
       "      <td>21591</td>\n",
       "      <td>39262</td>\n",
       "      <td>0</td>\n",
       "      <td>1</td>\n",
       "      <td>10.7955</td>\n",
       "      <td>19.6310</td>\n",
       "      <td>19.6310</td>\n",
       "      <td>0.593757</td>\n",
       "      <td>0.406243</td>\n",
       "      <td>1.0</td>\n",
       "      <td>-0.0</td>\n",
       "    </tr>\n",
       "    <tr>\n",
       "      <th>2</th>\n",
       "      <td>0</td>\n",
       "      <td>7310</td>\n",
       "      <td>3622</td>\n",
       "      <td>0</td>\n",
       "      <td>1</td>\n",
       "      <td>3.6550</td>\n",
       "      <td>1.8110</td>\n",
       "      <td>1.8110</td>\n",
       "      <td>0.577866</td>\n",
       "      <td>0.422134</td>\n",
       "      <td>1.0</td>\n",
       "      <td>-0.0</td>\n",
       "    </tr>\n",
       "    <tr>\n",
       "      <th>3</th>\n",
       "      <td>0</td>\n",
       "      <td>20</td>\n",
       "      <td>19562</td>\n",
       "      <td>0</td>\n",
       "      <td>1</td>\n",
       "      <td>0.0100</td>\n",
       "      <td>9.7810</td>\n",
       "      <td>9.7810</td>\n",
       "      <td>0.232977</td>\n",
       "      <td>0.767023</td>\n",
       "      <td>0.0</td>\n",
       "      <td>1.0</td>\n",
       "    </tr>\n",
       "    <tr>\n",
       "      <th>4</th>\n",
       "      <td>1</td>\n",
       "      <td>45589</td>\n",
       "      <td>7554</td>\n",
       "      <td>1</td>\n",
       "      <td>0</td>\n",
       "      <td>22.7945</td>\n",
       "      <td>3.7770</td>\n",
       "      <td>22.7945</td>\n",
       "      <td>0.578260</td>\n",
       "      <td>0.421740</td>\n",
       "      <td>1.0</td>\n",
       "      <td>-0.0</td>\n",
       "    </tr>\n",
       "  </tbody>\n",
       "</table>\n",
       "</div>"
      ],
      "text/plain": [
       "   Choice  A_follower_count  B_follower_count  A_inf_B  B_inf_A  \\\n",
       "0       0               228             34463        0        1   \n",
       "1       0             21591             39262        0        1   \n",
       "2       0              7310              3622        0        1   \n",
       "3       0                20             19562        0        1   \n",
       "4       1             45589              7554        1        0   \n",
       "\n",
       "   A_expected_buy_1tweet  B_expected_buy_1tweet  expected_profit_NA  \\\n",
       "0                 0.1140                17.2315             17.2315   \n",
       "1                10.7955                19.6310             19.6310   \n",
       "2                 3.6550                 1.8110              1.8110   \n",
       "3                 0.0100                 9.7810              9.7810   \n",
       "4                22.7945                 3.7770             22.7945   \n",
       "\n",
       "   prob_A_inf_B  prob_B_inf_A  A_inf_B_model  B_inf_A_model  \n",
       "0      0.298376      0.701624            0.0            1.0  \n",
       "1      0.593757      0.406243            1.0           -0.0  \n",
       "2      0.577866      0.422134            1.0           -0.0  \n",
       "3      0.232977      0.767023            0.0            1.0  \n",
       "4      0.578260      0.421740            1.0           -0.0  "
      ]
     },
     "execution_count": 83,
     "metadata": {},
     "output_type": "execute_result"
    }
   ],
   "source": [
    "# Add vectorized columns to substitute the hard voted probabilities \n",
    "fin_df['A_inf_B_model'] = ((fin_df['prob_A_inf_B'] - fin_df['prob_B_inf_A']) / \n",
    "                           (abs(fin_df['prob_A_inf_B'] - fin_df['prob_B_inf_A'])) + 1 ) / 2\n",
    "fin_df['B_inf_A_model'] = (fin_df['A_inf_B_model'] - 1 )*-1\n",
    "\n",
    "fin_df.head()"
   ]
  },
  {
   "cell_type": "code",
   "execution_count": 84,
   "metadata": {
    "collapsed": true
   },
   "outputs": [],
   "source": [
    "# Make columns for expected profit of tweeting twice \n",
    "\n",
    "fin_df['A_expected_buy_2tweets'] = fin_df['A_follower_count']*0.00075\n",
    "fin_df['B_expected_buy_2tweets'] = fin_df['B_follower_count']*0.00075"
   ]
  },
  {
   "cell_type": "code",
   "execution_count": 85,
   "metadata": {
    "collapsed": false
   },
   "outputs": [
    {
     "data": {
      "text/html": [
       "<div>\n",
       "<table border=\"1\" class=\"dataframe\">\n",
       "  <thead>\n",
       "    <tr style=\"text-align: right;\">\n",
       "      <th></th>\n",
       "      <th>Choice</th>\n",
       "      <th>A_follower_count</th>\n",
       "      <th>B_follower_count</th>\n",
       "      <th>A_inf_B</th>\n",
       "      <th>B_inf_A</th>\n",
       "      <th>A_expected_buy_1tweet</th>\n",
       "      <th>B_expected_buy_1tweet</th>\n",
       "      <th>expected_profit_NA</th>\n",
       "      <th>prob_A_inf_B</th>\n",
       "      <th>prob_B_inf_A</th>\n",
       "      <th>A_inf_B_model</th>\n",
       "      <th>B_inf_A_model</th>\n",
       "      <th>A_expected_buy_2tweets</th>\n",
       "      <th>B_expected_buy_2tweets</th>\n",
       "      <th>expected_profit</th>\n",
       "    </tr>\n",
       "  </thead>\n",
       "  <tbody>\n",
       "    <tr>\n",
       "      <th>0</th>\n",
       "      <td>0</td>\n",
       "      <td>228</td>\n",
       "      <td>34463</td>\n",
       "      <td>0</td>\n",
       "      <td>1</td>\n",
       "      <td>0.1140</td>\n",
       "      <td>17.2315</td>\n",
       "      <td>17.2315</td>\n",
       "      <td>0.298376</td>\n",
       "      <td>0.701624</td>\n",
       "      <td>0.0</td>\n",
       "      <td>1.0</td>\n",
       "      <td>0.17100</td>\n",
       "      <td>25.84725</td>\n",
       "      <td>25.84725</td>\n",
       "    </tr>\n",
       "    <tr>\n",
       "      <th>1</th>\n",
       "      <td>0</td>\n",
       "      <td>21591</td>\n",
       "      <td>39262</td>\n",
       "      <td>0</td>\n",
       "      <td>1</td>\n",
       "      <td>10.7955</td>\n",
       "      <td>19.6310</td>\n",
       "      <td>19.6310</td>\n",
       "      <td>0.593757</td>\n",
       "      <td>0.406243</td>\n",
       "      <td>1.0</td>\n",
       "      <td>-0.0</td>\n",
       "      <td>16.19325</td>\n",
       "      <td>29.44650</td>\n",
       "      <td>0.00000</td>\n",
       "    </tr>\n",
       "    <tr>\n",
       "      <th>2</th>\n",
       "      <td>0</td>\n",
       "      <td>7310</td>\n",
       "      <td>3622</td>\n",
       "      <td>0</td>\n",
       "      <td>1</td>\n",
       "      <td>3.6550</td>\n",
       "      <td>1.8110</td>\n",
       "      <td>1.8110</td>\n",
       "      <td>0.577866</td>\n",
       "      <td>0.422134</td>\n",
       "      <td>1.0</td>\n",
       "      <td>-0.0</td>\n",
       "      <td>5.48250</td>\n",
       "      <td>2.71650</td>\n",
       "      <td>0.00000</td>\n",
       "    </tr>\n",
       "    <tr>\n",
       "      <th>3</th>\n",
       "      <td>0</td>\n",
       "      <td>20</td>\n",
       "      <td>19562</td>\n",
       "      <td>0</td>\n",
       "      <td>1</td>\n",
       "      <td>0.0100</td>\n",
       "      <td>9.7810</td>\n",
       "      <td>9.7810</td>\n",
       "      <td>0.232977</td>\n",
       "      <td>0.767023</td>\n",
       "      <td>0.0</td>\n",
       "      <td>1.0</td>\n",
       "      <td>0.01500</td>\n",
       "      <td>14.67150</td>\n",
       "      <td>14.67150</td>\n",
       "    </tr>\n",
       "    <tr>\n",
       "      <th>4</th>\n",
       "      <td>1</td>\n",
       "      <td>45589</td>\n",
       "      <td>7554</td>\n",
       "      <td>1</td>\n",
       "      <td>0</td>\n",
       "      <td>22.7945</td>\n",
       "      <td>3.7770</td>\n",
       "      <td>22.7945</td>\n",
       "      <td>0.578260</td>\n",
       "      <td>0.421740</td>\n",
       "      <td>1.0</td>\n",
       "      <td>-0.0</td>\n",
       "      <td>34.19175</td>\n",
       "      <td>5.66550</td>\n",
       "      <td>34.19175</td>\n",
       "    </tr>\n",
       "  </tbody>\n",
       "</table>\n",
       "</div>"
      ],
      "text/plain": [
       "   Choice  A_follower_count  B_follower_count  A_inf_B  B_inf_A  \\\n",
       "0       0               228             34463        0        1   \n",
       "1       0             21591             39262        0        1   \n",
       "2       0              7310              3622        0        1   \n",
       "3       0                20             19562        0        1   \n",
       "4       1             45589              7554        1        0   \n",
       "\n",
       "   A_expected_buy_1tweet  B_expected_buy_1tweet  expected_profit_NA  \\\n",
       "0                 0.1140                17.2315             17.2315   \n",
       "1                10.7955                19.6310             19.6310   \n",
       "2                 3.6550                 1.8110              1.8110   \n",
       "3                 0.0100                 9.7810              9.7810   \n",
       "4                22.7945                 3.7770             22.7945   \n",
       "\n",
       "   prob_A_inf_B  prob_B_inf_A  A_inf_B_model  B_inf_A_model  \\\n",
       "0      0.298376      0.701624            0.0            1.0   \n",
       "1      0.593757      0.406243            1.0           -0.0   \n",
       "2      0.577866      0.422134            1.0           -0.0   \n",
       "3      0.232977      0.767023            0.0            1.0   \n",
       "4      0.578260      0.421740            1.0           -0.0   \n",
       "\n",
       "   A_expected_buy_2tweets  B_expected_buy_2tweets  expected_profit  \n",
       "0                 0.17100                25.84725         25.84725  \n",
       "1                16.19325                29.44650          0.00000  \n",
       "2                 5.48250                 2.71650          0.00000  \n",
       "3                 0.01500                14.67150         14.67150  \n",
       "4                34.19175                 5.66550         34.19175  "
      ]
     },
     "execution_count": 85,
     "metadata": {},
     "output_type": "execute_result"
    }
   ],
   "source": [
    "# Create columns for overall expected profit for part II \n",
    "fin_df['expected_profit'] = (fin_df['A_inf_B_model']*fin_df['A_expected_buy_2tweets']*fin_df['A_inf_B']) + (fin_df['B_inf_A_model']*fin_df['B_expected_buy_2tweets']*fin_df['B_inf_A'])\n",
    "fin_df.head()"
   ]
  },
  {
   "cell_type": "markdown",
   "metadata": {},
   "source": [
    "Need to check against if they are actually influencers - right now choosing everyone as an influencer"
   ]
  },
  {
   "cell_type": "code",
   "execution_count": 86,
   "metadata": {
    "collapsed": false
   },
   "outputs": [
    {
     "data": {
      "text/plain": [
       "3627270.0102500003"
      ]
     },
     "execution_count": 86,
     "metadata": {},
     "output_type": "execute_result"
    }
   ],
   "source": [
    "total_cost_wa = fin_df.shape[0]*10 # total cost = 1 person per row * $10 per person\n",
    "expected_buy_wa = fin_df['expected_profit'].sum() # expected revenue is sum of the expected buy column\n",
    "expected_profit_wa = expected_buy_wa - total_cost_wa # Calculate expected profit \n",
    "expected_profit_wa"
   ]
  },
  {
   "cell_type": "code",
   "execution_count": 87,
   "metadata": {
    "collapsed": false
   },
   "outputs": [
    {
     "data": {
      "text/plain": [
       "3977426.444749994"
      ]
     },
     "execution_count": 87,
     "metadata": {},
     "output_type": "execute_result"
    }
   ],
   "source": [
    "## perfect model \n",
    "fin_df['perfect_buy'] = (fin_df['A_inf_B'] * fin_df['A_expected_buy_2tweets']) + (fin_df['B_inf_A']*fin_df['B_expected_buy_2tweets'])\n",
    "perfect_profit = fin_df['perfect_buy'].sum() - total_cost_wa\n",
    "perfect_profit"
   ]
  },
  {
   "cell_type": "code",
   "execution_count": 88,
   "metadata": {
    "collapsed": false
   },
   "outputs": [
    {
     "data": {
      "text/html": [
       "<div>\n",
       "<table border=\"1\" class=\"dataframe\">\n",
       "  <thead>\n",
       "    <tr style=\"text-align: right;\">\n",
       "      <th></th>\n",
       "      <th>Choice</th>\n",
       "      <th>A_follower_count</th>\n",
       "      <th>B_follower_count</th>\n",
       "      <th>A_inf_B</th>\n",
       "      <th>B_inf_A</th>\n",
       "      <th>A_expected_buy_1tweet</th>\n",
       "      <th>B_expected_buy_1tweet</th>\n",
       "      <th>expected_profit_NA</th>\n",
       "      <th>prob_A_inf_B</th>\n",
       "      <th>prob_B_inf_A</th>\n",
       "      <th>A_inf_B_model</th>\n",
       "      <th>B_inf_A_model</th>\n",
       "      <th>A_expected_buy_2tweets</th>\n",
       "      <th>B_expected_buy_2tweets</th>\n",
       "      <th>expected_profit</th>\n",
       "      <th>perfect_buy</th>\n",
       "    </tr>\n",
       "  </thead>\n",
       "  <tbody>\n",
       "    <tr>\n",
       "      <th>0</th>\n",
       "      <td>0</td>\n",
       "      <td>228</td>\n",
       "      <td>34463</td>\n",
       "      <td>0</td>\n",
       "      <td>1</td>\n",
       "      <td>0.1140</td>\n",
       "      <td>17.2315</td>\n",
       "      <td>17.2315</td>\n",
       "      <td>0.298376</td>\n",
       "      <td>0.701624</td>\n",
       "      <td>0.0</td>\n",
       "      <td>1.0</td>\n",
       "      <td>0.17100</td>\n",
       "      <td>25.84725</td>\n",
       "      <td>25.84725</td>\n",
       "      <td>25.84725</td>\n",
       "    </tr>\n",
       "    <tr>\n",
       "      <th>1</th>\n",
       "      <td>0</td>\n",
       "      <td>21591</td>\n",
       "      <td>39262</td>\n",
       "      <td>0</td>\n",
       "      <td>1</td>\n",
       "      <td>10.7955</td>\n",
       "      <td>19.6310</td>\n",
       "      <td>19.6310</td>\n",
       "      <td>0.593757</td>\n",
       "      <td>0.406243</td>\n",
       "      <td>1.0</td>\n",
       "      <td>-0.0</td>\n",
       "      <td>16.19325</td>\n",
       "      <td>29.44650</td>\n",
       "      <td>0.00000</td>\n",
       "      <td>29.44650</td>\n",
       "    </tr>\n",
       "    <tr>\n",
       "      <th>2</th>\n",
       "      <td>0</td>\n",
       "      <td>7310</td>\n",
       "      <td>3622</td>\n",
       "      <td>0</td>\n",
       "      <td>1</td>\n",
       "      <td>3.6550</td>\n",
       "      <td>1.8110</td>\n",
       "      <td>1.8110</td>\n",
       "      <td>0.577866</td>\n",
       "      <td>0.422134</td>\n",
       "      <td>1.0</td>\n",
       "      <td>-0.0</td>\n",
       "      <td>5.48250</td>\n",
       "      <td>2.71650</td>\n",
       "      <td>0.00000</td>\n",
       "      <td>2.71650</td>\n",
       "    </tr>\n",
       "    <tr>\n",
       "      <th>3</th>\n",
       "      <td>0</td>\n",
       "      <td>20</td>\n",
       "      <td>19562</td>\n",
       "      <td>0</td>\n",
       "      <td>1</td>\n",
       "      <td>0.0100</td>\n",
       "      <td>9.7810</td>\n",
       "      <td>9.7810</td>\n",
       "      <td>0.232977</td>\n",
       "      <td>0.767023</td>\n",
       "      <td>0.0</td>\n",
       "      <td>1.0</td>\n",
       "      <td>0.01500</td>\n",
       "      <td>14.67150</td>\n",
       "      <td>14.67150</td>\n",
       "      <td>14.67150</td>\n",
       "    </tr>\n",
       "    <tr>\n",
       "      <th>4</th>\n",
       "      <td>1</td>\n",
       "      <td>45589</td>\n",
       "      <td>7554</td>\n",
       "      <td>1</td>\n",
       "      <td>0</td>\n",
       "      <td>22.7945</td>\n",
       "      <td>3.7770</td>\n",
       "      <td>22.7945</td>\n",
       "      <td>0.578260</td>\n",
       "      <td>0.421740</td>\n",
       "      <td>1.0</td>\n",
       "      <td>-0.0</td>\n",
       "      <td>34.19175</td>\n",
       "      <td>5.66550</td>\n",
       "      <td>34.19175</td>\n",
       "      <td>34.19175</td>\n",
       "    </tr>\n",
       "  </tbody>\n",
       "</table>\n",
       "</div>"
      ],
      "text/plain": [
       "   Choice  A_follower_count  B_follower_count  A_inf_B  B_inf_A  \\\n",
       "0       0               228             34463        0        1   \n",
       "1       0             21591             39262        0        1   \n",
       "2       0              7310              3622        0        1   \n",
       "3       0                20             19562        0        1   \n",
       "4       1             45589              7554        1        0   \n",
       "\n",
       "   A_expected_buy_1tweet  B_expected_buy_1tweet  expected_profit_NA  \\\n",
       "0                 0.1140                17.2315             17.2315   \n",
       "1                10.7955                19.6310             19.6310   \n",
       "2                 3.6550                 1.8110              1.8110   \n",
       "3                 0.0100                 9.7810              9.7810   \n",
       "4                22.7945                 3.7770             22.7945   \n",
       "\n",
       "   prob_A_inf_B  prob_B_inf_A  A_inf_B_model  B_inf_A_model  \\\n",
       "0      0.298376      0.701624            0.0            1.0   \n",
       "1      0.593757      0.406243            1.0           -0.0   \n",
       "2      0.577866      0.422134            1.0           -0.0   \n",
       "3      0.232977      0.767023            0.0            1.0   \n",
       "4      0.578260      0.421740            1.0           -0.0   \n",
       "\n",
       "   A_expected_buy_2tweets  B_expected_buy_2tweets  expected_profit  \\\n",
       "0                 0.17100                25.84725         25.84725   \n",
       "1                16.19325                29.44650          0.00000   \n",
       "2                 5.48250                 2.71650          0.00000   \n",
       "3                 0.01500                14.67150         14.67150   \n",
       "4                34.19175                 5.66550         34.19175   \n",
       "\n",
       "   perfect_buy  \n",
       "0     25.84725  \n",
       "1     29.44650  \n",
       "2      2.71650  \n",
       "3     14.67150  \n",
       "4     34.19175  "
      ]
     },
     "execution_count": 88,
     "metadata": {},
     "output_type": "execute_result"
    }
   ],
   "source": [
    "fin_df.head()"
   ]
  },
  {
   "cell_type": "code",
   "execution_count": null,
   "metadata": {
    "collapsed": true
   },
   "outputs": [],
   "source": []
  },
  {
   "cell_type": "code",
   "execution_count": null,
   "metadata": {
    "collapsed": true
   },
   "outputs": [],
   "source": []
  },
  {
   "cell_type": "code",
   "execution_count": null,
   "metadata": {
    "collapsed": true
   },
   "outputs": [],
   "source": []
  },
  {
   "cell_type": "code",
   "execution_count": null,
   "metadata": {
    "collapsed": true
   },
   "outputs": [],
   "source": []
  },
  {
   "cell_type": "code",
   "execution_count": null,
   "metadata": {
    "collapsed": true
   },
   "outputs": [],
   "source": []
  }
 ],
 "metadata": {
  "kernelspec": {
   "display_name": "Python 3",
   "language": "python",
   "name": "python3"
  },
  "language_info": {
   "codemirror_mode": {
    "name": "ipython",
    "version": 3
   },
   "file_extension": ".py",
   "mimetype": "text/x-python",
   "name": "python",
   "nbconvert_exporter": "python",
   "pygments_lexer": "ipython3",
   "version": "3.6.0"
  }
 },
 "nbformat": 4,
 "nbformat_minor": 2
}
